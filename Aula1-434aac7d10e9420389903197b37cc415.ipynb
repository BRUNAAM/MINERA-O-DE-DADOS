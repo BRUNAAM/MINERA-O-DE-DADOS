{
  "nbformat": 4,
  "nbformat_minor": 0,
  "metadata": {
    "colab": {
      "private_outputs": true,
      "provenance": []
    },
    "kernelspec": {
      "name": "python3",
      "display_name": "Python 3"
    },
    "language_info": {
      "name": "python"
    }
  },
  "cells": [
    {
      "cell_type": "code",
      "source": [
        "###################\n",
        "#Conceitos Básicos#\n",
        "###################\n",
        "#função de imprimir algo na tela\n",
        "# a maior parte dos comando em python o próprio nome em ingles diz o que a função faz\n",
        "print('Olá Mundo!')"
      ],
      "metadata": {
        "id": "ayslLS9pXpU4"
      },
      "execution_count": null,
      "outputs": []
    },
    {
      "cell_type": "code",
      "source": [
        "# o que acontece se eu não colocar as aspas?\n",
        "# recebemos uma mensagem de erro, quando ele diz que ola não esta definido é porque ele entende que ola é uma variável\n",
        "#geralmente nas mensagens de erro ha tentativa de se explicar qual o erro ocorrido\n",
        "print(ola)"
      ],
      "metadata": {
        "id": "eJUPLDTHgWv1"
      },
      "execution_count": null,
      "outputs": []
    },
    {
      "cell_type": "code",
      "source": [
        "#vamos escrever duas mensagens juntas\n",
        "#ele só imprime o que está dentro das aspas e não entende qualquer espaço fora dela\n",
        "print('olá tudo bem?' 'sim! tudo e vc?')"
      ],
      "metadata": {
        "id": "FNekbYMthlmM"
      },
      "execution_count": null,
      "outputs": []
    },
    {
      "cell_type": "code",
      "source": [
        "#vamos escrever duas mensagens juntas\n",
        "\n",
        "print('olá tudo bem? ' 'sim! tudo e vc?')"
      ],
      "metadata": {
        "id": "ss0CQc-8hzdc"
      },
      "execution_count": null,
      "outputs": []
    },
    {
      "cell_type": "code",
      "source": [
        "#poderiamos coloccar cada mensagem em um print em cada linha\n",
        "# o python sempre le forma sequencial, lendo uma linha de cada vez\n",
        "print('olá tudo bem?')\n",
        "print('sim! tudo e vc?')"
      ],
      "metadata": {
        "id": "qBUa_5FginnS"
      },
      "execution_count": null,
      "outputs": []
    },
    {
      "cell_type": "code",
      "source": [
        "# como escrever comentários\n",
        "print('comentários se escrevem com cerquilha \"#\"')"
      ],
      "metadata": {
        "id": "TZS30ietjF09"
      },
      "execution_count": null,
      "outputs": []
    },
    {
      "cell_type": "code",
      "source": [
        "#posso executar contas utilizando o print, apesar de não precisar do comando print para executar contas no python isso pode ser feito diretamente\n",
        "print(2+2)"
      ],
      "metadata": {
        "id": "Xm9uTHcVjw2B"
      },
      "execution_count": null,
      "outputs": []
    },
    {
      "cell_type": "code",
      "source": [
        "2+2"
      ],
      "metadata": {
        "id": "gLajCZOQj1l5"
      },
      "execution_count": null,
      "outputs": []
    },
    {
      "cell_type": "code",
      "source": [
        "########################\n",
        "#operadores aritméticos#\n",
        "########################\n",
        "#subtração\n",
        "print(10-5)\n",
        "#multiplicação\n",
        "print(10*4)\n",
        "#divisão\n",
        "print(10/3)\n",
        "#exponenciação\n",
        "print(2**3)\n",
        "#podemos pegar somente a parte inteira da divisão\n",
        "print(5//2)\n",
        "# ou o resto da divisão\n",
        "print(5%2)"
      ],
      "metadata": {
        "id": "Zco_1t5xkKvh"
      },
      "execution_count": null,
      "outputs": []
    },
    {
      "cell_type": "code",
      "source": [
        "############################\n",
        "#Variáveis e tipos de dados#\n",
        "############################\n",
        "# Variável é um valor que pode se alterar\n",
        "# criei a variavel a e atribui o valor 5 para ela, em outras linguagens de programação primeiro voce declara a variavel\n",
        "# e depois atribui valor, no python criamos e atribuimos valores ao mesmo tempo\n",
        "# o sinal de = no python não siguinifica igual e sim recebe o sinal de igual no python é ==\n",
        "a = 5\n",
        "print(a)\n",
        "a == 5"
      ],
      "metadata": {
        "id": "FFLeyuczlvnY"
      },
      "execution_count": null,
      "outputs": []
    },
    {
      "cell_type": "code",
      "source": [
        "a == 2"
      ],
      "metadata": {
        "id": "JZ0QBOLTl_09"
      },
      "execution_count": null,
      "outputs": []
    },
    {
      "cell_type": "code",
      "source": [
        "# criando outra variável\n",
        "b = 7"
      ],
      "metadata": {
        "id": "-JXl3h9MoPmM"
      },
      "execution_count": null,
      "outputs": []
    },
    {
      "cell_type": "code",
      "source": [
        "c = a+b\n",
        "print(c)"
      ],
      "metadata": {
        "id": "SCiRJlSHod0Q"
      },
      "execution_count": null,
      "outputs": []
    },
    {
      "cell_type": "code",
      "source": [
        "#posso criar variáveis com letras e numeros\n",
        "#é recomendado utilizar apenas letras minúsculas ao nomear variáveis em Python\n",
        "#O uso de letras maiúsculas pode gerar confusões, pois Python é sensível a maiúsculas e minúsculas.\n",
        "#utilize underscores (_) para separar palavras em nomes de variáveis compostos. Por exemplo, “nome_completo” em vez de “nomecompleto”.\n",
        "#Evite palavras reservadas: evite utilizar palavras reservadas da linguagem Python, como “if”, “for”, “while”, entre outras, como nomes de variáveis.\n",
        "variavel1 = 2\n",
        "print(variavel1)\n",
        "variavel2 = 3\n",
        "print(variavel2)\n",
        "variavel1 = 9\n",
        "print(variavel1)\n",
        "# o python faz uma leitura sequencial nas variaveis e subescreve valores, o último valor atribuido a variavel e o valor atual\n",
        "# as variáveis são dinamicas podem receber diferentes valores"
      ],
      "metadata": {
        "id": "OXq0KIKoo7p0"
      },
      "execution_count": null,
      "outputs": []
    },
    {
      "cell_type": "code",
      "source": [
        "# queremos saber o tipo da variável\n",
        "var1 = 3.5\n",
        "type(var1)"
      ],
      "metadata": {
        "id": "3WK8QkldsAfx"
      },
      "execution_count": null,
      "outputs": []
    },
    {
      "cell_type": "code",
      "source": [
        "var2 = 'tipo'\n",
        "type (var2)"
      ],
      "metadata": {
        "id": "gShQeypfsWj0"
      },
      "execution_count": null,
      "outputs": []
    },
    {
      "cell_type": "code",
      "source": [
        "var3 = 4\n",
        "type(var3)"
      ],
      "metadata": {
        "id": "uuz4lK4ksaes"
      },
      "execution_count": null,
      "outputs": []
    },
    {
      "cell_type": "code",
      "source": [
        "#importante sabermos os tipos das variaveis para podermos utilizá-las de forma correta"
      ],
      "metadata": {
        "id": "Hisw_2dbtvIR"
      },
      "execution_count": null,
      "outputs": []
    },
    {
      "cell_type": "code",
      "source": [
        "##############\n",
        "#função input#\n",
        "##############\n",
        "# A função input permite interagir com o usuário\n",
        "nome = input('Qual é o seu nome? ')\n",
        "#o valor que for escrito será armazenado na variável nome\n",
        "print('a variável nome armazena: ',nome)"
      ],
      "metadata": {
        "id": "Ngmbay9dSktV"
      },
      "execution_count": null,
      "outputs": []
    },
    {
      "cell_type": "code",
      "source": [
        "#outro exemplo\n",
        "idade = input('Qual é a sua idade?')\n",
        "print('A minha idade é: ', idade)\n",
        "print(type(idade))"
      ],
      "metadata": {
        "id": "-3f_A9OYTh_Y"
      },
      "execution_count": null,
      "outputs": []
    },
    {
      "cell_type": "code",
      "source": [
        "##########################################\n",
        "#Convertendo uma variável string para int#\n",
        "##########################################\n",
        "# atribuindo type para a variavel convertendo de str para int\n",
        "# float para int\n",
        "idade = int(input('Qual é a sua idade?'))\n",
        "print(idade)\n",
        "print(type(idade))"
      ],
      "metadata": {
        "id": "6P-AiQr9Vcf2"
      },
      "execution_count": null,
      "outputs": []
    },
    {
      "cell_type": "code",
      "source": [
        "##################\n",
        "#função .format()#\n",
        "##################\n",
        "animal = 'cachorro'\n",
        "# quando coloco o %s no lugar de animal estou dizendo que virá uma variável do tipo string que vai ser\n",
        "#alocada nesse lugar no caso ele coloca a variável animal\n",
        "#poderia colocar %d o d nesse caso é um decimal, coloco na variavel animal\n",
        "print('O %s é o meu animal favorito ' %animal) # o simbolo % especifica que é a variável animal"
      ],
      "metadata": {
        "id": "DTBzbx8-XJty"
      },
      "execution_count": null,
      "outputs": []
    },
    {
      "cell_type": "code",
      "source": [
        "#usando o comando .format para fazer a mesma coisa\n",
        "# as chaves indicam que naquele lugar virá uma variavel\n",
        "print('O {} é o meu animal favorito ' .format(animal))"
      ],
      "metadata": {
        "id": "7nJ5TnkgTIoi"
      },
      "execution_count": null,
      "outputs": []
    },
    {
      "cell_type": "code",
      "source": [
        "# posso colocar várias variáveis apenas informando nos indices\n",
        "animal1 = 'gatos'\n",
        "animal2 = 'cachorros'\n",
        "print('Eu gosto de {0} e também de {1} mas os {1} são meus animais preferidos' .format(animal1, animal2))"
      ],
      "metadata": {
        "id": "eGEGzE1qYWL6"
      },
      "execution_count": null,
      "outputs": []
    },
    {
      "cell_type": "code",
      "source": [
        "# vamos imprimir um numero com o comando formart\n",
        "conta = 17/3\n",
        "print(conta)\n",
        "# agora quero colocar somente duas casas depois da vírgula\n",
        "print( 'o resultado da conta é:{:.2f}' .format(conta))\n",
        "\n",
        "# agora quero colocar cinco casas depois da vírgula\n",
        "print( 'o resultado da conta é:{:.5f}' .format(conta))"
      ],
      "metadata": {
        "id": "jfjOj4TWaK6a"
      },
      "execution_count": null,
      "outputs": []
    },
    {
      "cell_type": "code",
      "source": [
        "########################\n",
        "#Condicionais If e Else#\n",
        "########################\n",
        "comida = 'pizza'\n",
        "if comida == 'pizza':\n",
        "  print('comida extremamente calórica')"
      ],
      "metadata": {
        "id": "d_8v23tCbh-J"
      },
      "execution_count": null,
      "outputs": []
    },
    {
      "cell_type": "code",
      "source": [
        "if comida == 'pizza':\n",
        "  print('comida extremamente calórica')\n",
        "else:\n",
        "  print('comida com quantidade calórica desconhecida')\n"
      ],
      "metadata": {
        "id": "OWAKNriWhHnS"
      },
      "execution_count": null,
      "outputs": []
    },
    {
      "cell_type": "code",
      "source": [
        "#trabalhando com o comando de igual ==\n",
        "# importante prestar a atenção nos recuos dentro dos ifs, pois ele executara exatamente o que está dentro desse if\n",
        "#posso aninhar vários ifs dentro de ifs\n",
        "comida = 'melao'\n",
        "if comida == 'pizza':\n",
        "  print('comida extremamente calórica')\n",
        "elif comida == 'arroz e feijão':\n",
        "  print('comida saudável')\n",
        "elif comida == 'saladas':\n",
        "  print('comida extremamente saudável')\n",
        "#se não for nehuma das anteriores eu coloco um else\n",
        "else:\n",
        "  print('desconheço valor calórico')\n",
        "\n"
      ],
      "metadata": {
        "id": "t3t2YfGlhhkI"
      },
      "execution_count": null,
      "outputs": []
    },
    {
      "cell_type": "code",
      "source": [
        "#trabalhando com o comando de diferente !=\n",
        "comida = 'melao'\n",
        "if comida != 'pizza':\n",
        "  print('não é pizza')\n",
        "else:\n",
        "  print('é pizza')"
      ],
      "metadata": {
        "id": "BczbpYZPlMDd"
      },
      "execution_count": null,
      "outputs": []
    },
    {
      "cell_type": "code",
      "source": [
        "# exercicio\n",
        "#pergunte para o usuário qual o ano de seu nasciemento\n",
        "# apartir da idade mencionada vc vai dizer se ele é adulto ou não\n",
        "#..."
      ],
      "metadata": {
        "id": "qZPCEUq7phPr"
      },
      "execution_count": null,
      "outputs": []
    },
    {
      "cell_type": "code",
      "source": [
        "#resolvendo de forma simples\n",
        "ano = int(input('qual é o ano de seu nascimento? '))\n",
        "ano_atual = 2024\n",
        "idade = ano_atual - ano\n",
        "if  idade < 18:\n",
        "  print('Você é menor de idade e tem {} anos' .format(idade))\n",
        "elif idade > 18:\n",
        "  print('Você é maior de idade e tem {} anos'.format(idade))\n"
      ],
      "metadata": {
        "id": "AA5J5zZDqLBr"
      },
      "execution_count": null,
      "outputs": []
    },
    {
      "cell_type": "code",
      "source": [
        "#####################\n",
        "#comando for e range#\n",
        "#####################\n",
        "# o comando range diz quantas vezes vou executar uma açao, caso abaixo de 0 ate 4\n",
        "for i in range(5):\n",
        "  print(i)"
      ],
      "metadata": {
        "id": "jw2nfpMvzs60"
      },
      "execution_count": null,
      "outputs": []
    },
    {
      "cell_type": "code",
      "source": [
        "a = 0\n",
        "for i in range(5):\n",
        "  a = a + 1 # na primeira passada o a vale 0, na segunda vale 1 e assim sucessivamente, sendo atualizado a cada loop\n",
        "  print(a)"
      ],
      "metadata": {
        "id": "sCoSInrz0aUk"
      },
      "execution_count": null,
      "outputs": []
    },
    {
      "cell_type": "code",
      "source": [
        "#############################################\n",
        "# comando o for utilizado de outras maneiras#\n",
        "#############################################\n",
        "palavra = 'Informática'\n",
        "for i in palavra: #para cada elementos dentro da variável palavra faça\n",
        "  print(i)"
      ],
      "metadata": {
        "id": "IfJbGPiicXBZ"
      },
      "execution_count": null,
      "outputs": []
    },
    {
      "cell_type": "code",
      "source": [
        "#######\n",
        "#Lista#\n",
        "#######\n",
        "#Uma lista é um conjunto de elementos falando de forma superficial\n",
        "lista = [2, 54, 8, -9, 0.5, 'ola']\n",
        "for num in lista:\n",
        "  print (num)\n"
      ],
      "metadata": {
        "id": "1-NvM-nrbj0R"
      },
      "execution_count": null,
      "outputs": []
    },
    {
      "cell_type": "code",
      "source": [
        "###############\n",
        "#Comando While#\n",
        "###############\n",
        "#é parecido com o for excutando repetidamente um comando\n",
        "contador = 0\n",
        "while contador < 10: # verifica se contador é menor que 10\n",
        "  print('ainda não realizou') # se for imprime ainda não realizaou\n",
        "  contador = contador + 1 # incrementa o contador, se não implentado o contador+1 entrará num loop infinito\n",
        "print('comando realizado')"
      ],
      "metadata": {
        "id": "OoV74b7NbiDa"
      },
      "execution_count": null,
      "outputs": []
    },
    {
      "cell_type": "code",
      "source": [
        "###############\n",
        "#Comando Break#\n",
        "###############\n",
        "#usando o comando break dentro do while\n",
        "#comando while é parecido com o for excutando repetidamente um comando\n",
        "contador = 0\n",
        "while contador < 10: # verifica se contador é menor que 10\n",
        "  print('ainda não realizou') # se for imprime ainda não realizaou\n",
        "  contador = contador + 1 # incrementa o contador, se não implentado o contador+1 entrará num loop infinito\n",
        "  if contador == 6: # vai verificar se o contador é igual 6 se for break\n",
        "    break # também pode ser usado no loop for serve para quebrar o loop\n",
        "print('comando realizado')"
      ],
      "metadata": {
        "id": "kiHFOW9Ig11L"
      },
      "execution_count": null,
      "outputs": []
    },
    {
      "cell_type": "code",
      "source": [
        "###########################################\n",
        "# exercicio: calcule um fatorial do numero#\n",
        "###########################################\n",
        "numero = int(input('digite um número '))\n",
        "fatorial = numero\n",
        "contador = 1\n",
        "# ser fosse para calcular o fatorial sem o comando while\n",
        "#fatorial = numero*(numero-1)*(numero-2)*(numero-3) # o problema com esse calcula é que eu não sei informar o numero que o usuario vai informar\n",
        "while (numero - contador)>1: # while esta sendo usado para verificar se numero - contador é maior que um\n",
        "  fatorial = fatorial*(numero - contador)\n",
        "  #print(fatorial)\n",
        "  contador = contador+1 # ou contador +=1 o python já entende que estou adicionando +1\n",
        "print('{0}! = {1}'.format(numero, fatorial))"
      ],
      "metadata": {
        "id": "xpcbR4qjjbuM"
      },
      "execution_count": null,
      "outputs": []
    },
    {
      "cell_type": "code",
      "source": [
        "#######################\n",
        "#MODULOS E BIBLIOTECAS#\n",
        "#######################\n",
        "# pensando no exemplo anteriro a função fatorial já está criada dentro de uma biblioteca chamada math\n",
        "#https://docs.python.org/pt-br/3/library/math.html # este link explica o que é a biblioteca math, quais as funçoes que existem dentro dessa biblioteca\n",
        "import math\n",
        "math.factorial(5) # preciso colocar uma entrada"
      ],
      "metadata": {
        "id": "Cy-hIezCyDgw"
      },
      "execution_count": null,
      "outputs": []
    },
    {
      "cell_type": "code",
      "source": [
        "import datetime\n",
        "datetime.date.today() #não preciso colocar uma entrada ela simplismente me traz o dia de hoje\n",
        "# a função today tem atributos que são o ano, mes e dia"
      ],
      "metadata": {
        "id": "MXxu8YqV2M6Z"
      },
      "execution_count": null,
      "outputs": []
    },
    {
      "cell_type": "code",
      "source": [
        "# posso chamar somente o atributo dia\n",
        "datetime.date.today().day"
      ],
      "metadata": {
        "id": "PK5JT1Uy7u7i"
      },
      "execution_count": null,
      "outputs": []
    },
    {
      "cell_type": "code",
      "source": [
        "#melhorar a formatacao da data\n",
        "datetime.date.isoformat(datetime.date.today())"
      ],
      "metadata": {
        "id": "F23XSzN38-Bz"
      },
      "execution_count": null,
      "outputs": []
    },
    {
      "cell_type": "code",
      "source": [
        "#outra maneira de importar o módulo date\n",
        "from datetime import date # ao inves de importar o módulo inteiro importo apenas o date\n",
        "date.isoformat(date.today())\n"
      ],
      "metadata": {
        "id": "rWjgz9sE9Y95"
      },
      "execution_count": null,
      "outputs": []
    },
    {
      "cell_type": "code",
      "source": [
        "# FUNÇÕES\n",
        "def parabens(): # estou criando uma função e os parentes vazios significas que não preciso passar nenhum parametro\n",
        "  print(' Parabéns\\n Pra você nesta data querida\\n Muitas felicidades!') # o \\n serve para quebrar linhas"
      ],
      "metadata": {
        "id": "jNHXpVJO-D8f"
      },
      "execution_count": null,
      "outputs": []
    },
    {
      "cell_type": "code",
      "source": [
        "parabens() #chamando a função"
      ],
      "metadata": {
        "id": "cSR6G8h4_1MH"
      },
      "execution_count": null,
      "outputs": []
    },
    {
      "cell_type": "code",
      "source": [
        "def temletrau():\n",
        "  frase = input('Digite uma frase ')\n",
        "  if 'u' in frase: #verifica se a letra u esta dentro de chave verificando caractere por caractere da frase digitada\n",
        "    print ('Você utilizou a letra u')\n",
        "  else:\n",
        "    print('Você não utilizou a letra u')"
      ],
      "metadata": {
        "id": "ACaw7xkyA3_N"
      },
      "execution_count": null,
      "outputs": []
    },
    {
      "cell_type": "code",
      "source": [
        "temletrau()\n"
      ],
      "metadata": {
        "id": "H2NaYUDHB-Pm"
      },
      "execution_count": null,
      "outputs": []
    },
    {
      "cell_type": "code",
      "source": [
        "def somaQuadrados(a,b): #função em que a passagem de parametros a e b são obrigatorias\n",
        "  somaQ = a**2 + b**2\n",
        "  return somaQ # retorna o valor da variavle somaQ poderia utilizar o print"
      ],
      "metadata": {
        "id": "6DAjiikUDYEu"
      },
      "execution_count": null,
      "outputs": []
    },
    {
      "cell_type": "code",
      "source": [
        "somaQuadrados(2,4) # os parâmetros nessse caso são 2,4"
      ],
      "metadata": {
        "id": "CtyI54qnEG7u"
      },
      "execution_count": null,
      "outputs": []
    },
    {
      "cell_type": "code",
      "source": [
        "########\n",
        "#LISTAS#\n",
        "########\n",
        "list1 = [1, 2, 3] # o python identifica listas por meio dos colchetes\n",
        "list2 = [[1,2,5],['ola', 0.5, 5],[1, 34, 56]] # dentro de uma lista eu tenho várias pequenas listas\n"
      ],
      "metadata": {
        "id": "TM34yYFDFVi7"
      },
      "execution_count": null,
      "outputs": []
    },
    {
      "cell_type": "code",
      "source": [
        "type (list1)"
      ],
      "metadata": {
        "id": "Sj22E-HfHGLw"
      },
      "execution_count": null,
      "outputs": []
    },
    {
      "cell_type": "code",
      "source": [
        "#como filtar um elemento de uma lista\n",
        "list1[2] # o python busca o elemento que esta na posição 0 da lista"
      ],
      "metadata": {
        "id": "mWI_WImvH9D_"
      },
      "execution_count": null,
      "outputs": []
    },
    {
      "cell_type": "code",
      "source": [
        "list1[3] # se eu buscar por elemento que não existe dá um estouro de lista"
      ],
      "metadata": {
        "id": "X9WOAddMIOMC"
      },
      "execution_count": null,
      "outputs": []
    },
    {
      "cell_type": "code",
      "source": [
        "list2[1]"
      ],
      "metadata": {
        "id": "pi9APB4kJBdq"
      },
      "execution_count": null,
      "outputs": []
    },
    {
      "cell_type": "code",
      "source": [
        "# filtrando elemento especifico dentro de uma lista com outras listas aninhadas conforme list2\n",
        "#list2 = [[1,2,5],['ola', 0.5, 5],[1, 34, 56]] # dentro de uma lista eu tenho várias pequenas listas\n",
        "list2[1][0]"
      ],
      "metadata": {
        "id": "mRpLbn-7JaQs"
      },
      "execution_count": null,
      "outputs": []
    },
    {
      "cell_type": "code",
      "source": [
        "# fazendo atribuição de um elemento da lista para uma variável\n",
        "select = list2[1]\n",
        "print(select)\n",
        "type (select) # automaticamente o python já atribui o select como lista"
      ],
      "metadata": {
        "id": "TIlpb7KMLMJK"
      },
      "execution_count": null,
      "outputs": []
    },
    {
      "cell_type": "code",
      "source": [
        "select = list2[0][1]\n",
        "print(select)\n",
        "type(select)"
      ],
      "metadata": {
        "id": "v4xmmCFPLzdw"
      },
      "execution_count": null,
      "outputs": []
    },
    {
      "cell_type": "code",
      "source": [
        "import random\n",
        "cidades = ['Ivaipora', 'Jardim Alegre', 'Manoel Ribas']\n",
        "escolhida = random.choice(cidades) # uso a funçao choice para sorter uma cidade da lista\n",
        "print('A cidade escolhida é: ', escolhida)"
      ],
      "metadata": {
        "id": "fYYVdyJdOMqt"
      },
      "execution_count": null,
      "outputs": []
    },
    {
      "cell_type": "code",
      "source": [
        "#função append\n",
        "a = [1, 2, 3]\n",
        "# quero inserir um elemento nessa lista\n",
        "a.append(8)\n",
        "print(a)"
      ],
      "metadata": {
        "id": "IDCd4OaFP6I0"
      },
      "execution_count": null,
      "outputs": []
    },
    {
      "cell_type": "code",
      "source": [
        "b = [7, 8, 9] # quero colocar todos esses elementos na lista a\n",
        "\n",
        "for i in b: # vai varrer cada elemento dentro de b\n",
        "  a.append(i)\n",
        "print(a)"
      ],
      "metadata": {
        "id": "e68L_d9LQnGT"
      },
      "execution_count": null,
      "outputs": []
    },
    {
      "cell_type": "code",
      "source": [
        "# deletar um elemento da lista\n",
        "del a[3]\n",
        "print(a)"
      ],
      "metadata": {
        "id": "R-44HOVe5Pxp"
      },
      "execution_count": null,
      "outputs": []
    },
    {
      "cell_type": "code",
      "source": [
        "#exercicio converter os elemento de uma lista de inteiros em float\n",
        "x= [2, 4, 6, 10]\n",
        "nova = []\n",
        "for i in x:\n",
        "  nova.append(float(i))\n",
        "print(nova)\n"
      ],
      "metadata": {
        "id": "xqZJmMsNS6oX"
      },
      "execution_count": null,
      "outputs": []
    },
    {
      "cell_type": "code",
      "source": [
        "########\n",
        "#Tuplas#\n",
        "########\n",
        "# Tupla é uma lista que não pode ser alterada\n",
        "# tupla tem anotação de parentes e possuir no minimo uma virgula diferentes das listas que utiliam colchetes\n",
        "\n",
        "lista = [2, 7, 10]\n",
        "print(lista)"
      ],
      "metadata": {
        "id": "rinfCXxGbmDy"
      },
      "execution_count": null,
      "outputs": []
    },
    {
      "cell_type": "code",
      "source": [
        "# alterando um elemento da lista\n",
        "lista[0]= 25\n",
        "print(lista)"
      ],
      "metadata": {
        "id": "kSzgB9o432Sr"
      },
      "execution_count": null,
      "outputs": []
    },
    {
      "cell_type": "code",
      "source": [
        "tupla = (2, 3, 6)\n",
        "print(tupla)"
      ],
      "metadata": {
        "id": "ogRnPIgs3pbd"
      },
      "execution_count": null,
      "outputs": []
    },
    {
      "cell_type": "code",
      "source": [
        "#Vamos perguntar para o python qual o elemento de índice 0\n",
        "tupla[0]"
      ],
      "metadata": {
        "id": "xU6tvzuW4Jfj"
      },
      "execution_count": null,
      "outputs": []
    },
    {
      "cell_type": "code",
      "source": [
        "#Não podemos modificar elementos na tupla\n",
        "tupla[0]= 25"
      ],
      "metadata": {
        "id": "UbSGOV7I4aVE"
      },
      "execution_count": null,
      "outputs": []
    },
    {
      "cell_type": "code",
      "source": [
        "# Não podemos excluir elementos da tupla\n",
        "del tupla[0]"
      ],
      "metadata": {
        "id": "xNiyohXG6YU4"
      },
      "execution_count": null,
      "outputs": []
    },
    {
      "cell_type": "code",
      "source": [
        "# Não podemos incluir um elemento na tupla\n",
        "tupla.append[10]"
      ],
      "metadata": {
        "id": "z3I2Y9Mp6xc1"
      },
      "execution_count": null,
      "outputs": []
    },
    {
      "cell_type": "code",
      "source": [
        "# transformando uma lista numa tupla\n",
        "nova_tupla = tuple(lista)\n",
        "print(nova_tupla)"
      ],
      "metadata": {
        "id": "3mjPV5XO7HOC"
      },
      "execution_count": null,
      "outputs": []
    },
    {
      "cell_type": "code",
      "source": [
        "type (nova_tupla)"
      ],
      "metadata": {
        "id": "rn4DHE_37tSo"
      },
      "execution_count": null,
      "outputs": []
    },
    {
      "cell_type": "code",
      "source": [
        "# qual a vantagem da tupla? muitas vezes vc pode ter uma lista que vc não quer que seja alterado de jeito nenhum\n",
        "# a tupla ocupa menos memória que a lista, pois tem menos operações que lista"
      ],
      "metadata": {
        "id": "etMQYbKb73n-"
      },
      "execution_count": null,
      "outputs": []
    },
    {
      "cell_type": "code",
      "source": [
        "############\n",
        "#Dicionário#\n",
        "############\n",
        "# dicionário tem a notação de chaves, assim como o python entende que a notação de colchetes é uma lista\n",
        "# a notação de parentes é uma tupla"
      ],
      "metadata": {
        "id": "67T6ayaMbvE6"
      },
      "execution_count": null,
      "outputs": []
    },
    {
      "cell_type": "code",
      "source": [
        "# dicionários trabalham com uma dupla de valores chave:valor\n",
        "#dicionário = {chave: valor}\n",
        "dicionario = {'Curso':'Sistemas de Informacao',\n",
        "              'Disciplina': 'Mineração de Dados',\n",
        "              'Professor':'José Luiz',\n",
        "              'Nota': '10'}  # os elementos são separados por virgula, o ideal é não escrever o dicionário em uma linha só, fica confuso"
      ],
      "metadata": {
        "id": "4bAYD559cJ6E"
      },
      "execution_count": null,
      "outputs": []
    },
    {
      "cell_type": "code",
      "source": [
        "#Busca em um dicionário\n",
        "# Busca para mim a chave Disciplina\n",
        "dicionario['Disciplina'] # principal função do dicionário é a sua consulta por meio de chaves"
      ],
      "metadata": {
        "id": "3ivLIDJVekV9"
      },
      "execution_count": null,
      "outputs": []
    },
    {
      "cell_type": "code",
      "source": [
        "a = dicionario['Nota'] # a variável vai receber o valor da chave no caso é 10\n",
        "print(a)"
      ],
      "metadata": {
        "id": "QHFaCDcufxjE"
      },
      "execution_count": null,
      "outputs": []
    },
    {
      "cell_type": "code",
      "source": [
        "#podemos editar um dicionário\n",
        "dicionario['Nota'] = '9'\n",
        "print(dicionario)"
      ],
      "metadata": {
        "id": "OTuFyk8jfxZb"
      },
      "execution_count": null,
      "outputs": []
    },
    {
      "cell_type": "code",
      "source": [
        "#adicionar um item ao dicionário\n",
        "dicionario['Instituição'] = 'IFPR'\n",
        "print(dicionario)"
      ],
      "metadata": {
        "id": "TUbDYDngbtWD"
      },
      "execution_count": null,
      "outputs": []
    },
    {
      "cell_type": "code",
      "source": [
        "dicionario.keys()  # o método keys traz todas as chaves do dicionário"
      ],
      "metadata": {
        "id": "8vVfrV3Mh6Iw"
      },
      "execution_count": null,
      "outputs": []
    },
    {
      "cell_type": "code",
      "source": [
        "dicionario.values()  # o método values traz todas os valores das chaves do dicionário"
      ],
      "metadata": {
        "id": "0e7GxmvmiyC-"
      },
      "execution_count": null,
      "outputs": []
    },
    {
      "cell_type": "code",
      "source": [
        "#posso colocar uma lista dentro do meu dicionario\n",
        "dicionario['Turma'] = '[1, 2, 3]'\n",
        "print(dicionario)"
      ],
      "metadata": {
        "id": "xXsHTbWdjZ-l"
      },
      "execution_count": null,
      "outputs": []
    },
    {
      "cell_type": "code",
      "source": [
        "dicionario.clear() #limpa todo o dicionário\n",
        "print(dicionario)"
      ],
      "metadata": {
        "id": "QFIUdB23jCwW"
      },
      "execution_count": null,
      "outputs": []
    }
  ]
}